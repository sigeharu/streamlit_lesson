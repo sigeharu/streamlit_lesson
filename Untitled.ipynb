{
 "cells": [
  {
   "cell_type": "code",
   "execution_count": 60,
   "id": "345efe29",
   "metadata": {
    "pycharm": {
     "name": "#%%\n"
    }
   },
   "outputs": [
    {
     "name": "stdout",
     "output_type": "stream",
     "text": [
      "Requirement already satisfied: yfinance in ./venv/lib/python3.10/site-packages (0.1.74)\r\n",
      "Requirement already satisfied: lxml>=4.5.1 in ./venv/lib/python3.10/site-packages (from yfinance) (4.9.1)\r\n",
      "Requirement already satisfied: multitasking>=0.0.7 in ./venv/lib/python3.10/site-packages (from yfinance) (0.0.11)\r\n",
      "Requirement already satisfied: pandas>=0.24.0 in ./venv/lib/python3.10/site-packages (from yfinance) (1.4.3)\r\n",
      "Requirement already satisfied: requests>=2.26 in ./venv/lib/python3.10/site-packages (from yfinance) (2.28.1)\r\n",
      "Requirement already satisfied: numpy>=1.15 in ./venv/lib/python3.10/site-packages (from yfinance) (1.23.1)\r\n",
      "Requirement already satisfied: python-dateutil>=2.8.1 in ./venv/lib/python3.10/site-packages (from pandas>=0.24.0->yfinance) (2.8.2)\r\n",
      "Requirement already satisfied: pytz>=2020.1 in ./venv/lib/python3.10/site-packages (from pandas>=0.24.0->yfinance) (2022.1)\r\n",
      "Requirement already satisfied: certifi>=2017.4.17 in ./venv/lib/python3.10/site-packages (from requests>=2.26->yfinance) (2022.6.15)\r\n",
      "Requirement already satisfied: idna<4,>=2.5 in ./venv/lib/python3.10/site-packages (from requests>=2.26->yfinance) (3.3)\r\n",
      "Requirement already satisfied: urllib3<1.27,>=1.21.1 in ./venv/lib/python3.10/site-packages (from requests>=2.26->yfinance) (1.26.11)\r\n",
      "Requirement already satisfied: charset-normalizer<3,>=2 in ./venv/lib/python3.10/site-packages (from requests>=2.26->yfinance) (2.1.0)\r\n",
      "Requirement already satisfied: six>=1.5 in ./venv/lib/python3.10/site-packages (from python-dateutil>=2.8.1->pandas>=0.24.0->yfinance) (1.16.0)\r\n",
      "\u001B[33mWARNING: You are using pip version 21.3.1; however, version 22.2.1 is available.\r\n",
      "You should consider upgrading via the '/Users/sigeharu/PycharmProjects/pythonProject3/venv/bin/python -m pip install --upgrade pip' command.\u001B[0m\r\n"
     ]
    }
   ],
   "source": [
    "!pip install yfinance"
   ]
  },
  {
   "cell_type": "code",
   "execution_count": 61,
   "id": "e0cd9310",
   "metadata": {
    "pycharm": {
     "name": "#%%\n"
    }
   },
   "outputs": [
    {
     "name": "stderr",
     "output_type": "stream",
     "text": [
      "UsageError: Line magic function `%` not found.\n"
     ]
    }
   ],
   "source": [
    "import pandas as pd\n",
    "import matplotlib.pyplot as plt\n",
    "import yfinance as yf\n",
    "\n",
    "% matplotlib inline"
   ]
  },
  {
   "cell_type": "code",
   "execution_count": 79,
   "id": "7145aa2f",
   "metadata": {
    "pycharm": {
     "name": "#%%\n"
    }
   },
   "outputs": [],
   "source": [
    "def get_data(days, tickers):\n",
    "    df = pd.DataFrame()\n",
    "    for company in tickers.keys():\n",
    "        tkr = yf.Ticker(tickers[company])\n",
    "        hist = tkr.history(period=f'{days}d')\n",
    "        hist.index = hist.index.strftime('%d %B %Y')\n",
    "        hist = hist[['Close']]\n",
    "        hist.columns = [company]\n",
    "        hist = hist.T\n",
    "        hist.index.name = 'Name'\n",
    "        df = pd.concat([df, hist])\n",
    "    return df"
   ]
  },
  {
   "cell_type": "code",
   "execution_count": 81,
   "outputs": [],
   "source": [
    "days = 20\n",
    "tickers = {\n",
    "    'apple': 'AAPL',\n",
    "    'facebook': 'FB',\n",
    "    'google': 'GOOGL',\n",
    "    'microsoft': 'MSFT',\n",
    "    'netflix': 'NFLX',\n",
    "    'amazon': 'AMZN'\n",
    "}\n",
    "df = get_data(days, tickers)"
   ],
   "metadata": {
    "collapsed": false,
    "pycharm": {
     "name": "#%%\n"
    }
   }
  },
  {
   "cell_type": "code",
   "execution_count": 82,
   "outputs": [
    {
     "data": {
      "text/plain": "Date      07 July 2022  08 July 2022  11 July 2022  12 July 2022  \\\nName                                                               \napple       146.350006    147.039993    144.869995    145.860001   \nfacebook    172.190002    170.880005    162.880005    163.270004   \n\nDate      13 July 2022  14 July 2022  15 July 2022  18 July 2022  \\\nName                                                               \napple       145.490005    148.470001    150.169998    147.070007   \nfacebook    163.490005    158.050003    164.699997    167.229996   \n\nDate      19 July 2022  20 July 2022  21 July 2022  22 July 2022  \\\nName                                                               \napple       151.000000    153.039993    155.350006    154.089996   \nfacebook    175.779999    183.089996    183.169998    169.270004   \n\nDate      25 July 2022  26 July 2022  27 July 2022  28 July 2022  \\\nName                                                               \napple       152.949997    151.600006    156.789993    157.350006   \nfacebook    166.649994    159.149994    169.580002    160.720001   \n\nDate      29 July 2022  01 August 2022  02 August 2022  03 August 2022  \nName                                                                    \napple       162.509995      161.509995      160.009995      166.130005  \nfacebook    159.100006      159.929993      160.190002      168.800003  ",
      "text/html": "<div>\n<style scoped>\n    .dataframe tbody tr th:only-of-type {\n        vertical-align: middle;\n    }\n\n    .dataframe tbody tr th {\n        vertical-align: top;\n    }\n\n    .dataframe thead th {\n        text-align: right;\n    }\n</style>\n<table border=\"1\" class=\"dataframe\">\n  <thead>\n    <tr style=\"text-align: right;\">\n      <th>Date</th>\n      <th>07 July 2022</th>\n      <th>08 July 2022</th>\n      <th>11 July 2022</th>\n      <th>12 July 2022</th>\n      <th>13 July 2022</th>\n      <th>14 July 2022</th>\n      <th>15 July 2022</th>\n      <th>18 July 2022</th>\n      <th>19 July 2022</th>\n      <th>20 July 2022</th>\n      <th>21 July 2022</th>\n      <th>22 July 2022</th>\n      <th>25 July 2022</th>\n      <th>26 July 2022</th>\n      <th>27 July 2022</th>\n      <th>28 July 2022</th>\n      <th>29 July 2022</th>\n      <th>01 August 2022</th>\n      <th>02 August 2022</th>\n      <th>03 August 2022</th>\n    </tr>\n    <tr>\n      <th>Name</th>\n      <th></th>\n      <th></th>\n      <th></th>\n      <th></th>\n      <th></th>\n      <th></th>\n      <th></th>\n      <th></th>\n      <th></th>\n      <th></th>\n      <th></th>\n      <th></th>\n      <th></th>\n      <th></th>\n      <th></th>\n      <th></th>\n      <th></th>\n      <th></th>\n      <th></th>\n      <th></th>\n    </tr>\n  </thead>\n  <tbody>\n    <tr>\n      <th>apple</th>\n      <td>146.350006</td>\n      <td>147.039993</td>\n      <td>144.869995</td>\n      <td>145.860001</td>\n      <td>145.490005</td>\n      <td>148.470001</td>\n      <td>150.169998</td>\n      <td>147.070007</td>\n      <td>151.000000</td>\n      <td>153.039993</td>\n      <td>155.350006</td>\n      <td>154.089996</td>\n      <td>152.949997</td>\n      <td>151.600006</td>\n      <td>156.789993</td>\n      <td>157.350006</td>\n      <td>162.509995</td>\n      <td>161.509995</td>\n      <td>160.009995</td>\n      <td>166.130005</td>\n    </tr>\n    <tr>\n      <th>facebook</th>\n      <td>172.190002</td>\n      <td>170.880005</td>\n      <td>162.880005</td>\n      <td>163.270004</td>\n      <td>163.490005</td>\n      <td>158.050003</td>\n      <td>164.699997</td>\n      <td>167.229996</td>\n      <td>175.779999</td>\n      <td>183.089996</td>\n      <td>183.169998</td>\n      <td>169.270004</td>\n      <td>166.649994</td>\n      <td>159.149994</td>\n      <td>169.580002</td>\n      <td>160.720001</td>\n      <td>159.100006</td>\n      <td>159.929993</td>\n      <td>160.190002</td>\n      <td>168.800003</td>\n    </tr>\n  </tbody>\n</table>\n</div>"
     },
     "execution_count": 82,
     "metadata": {},
     "output_type": "execute_result"
    }
   ],
   "source": [
    "companies = ['apple', 'facebook']\n",
    "data = df.loc[companies]\n",
    "data"
   ],
   "metadata": {
    "collapsed": false,
    "pycharm": {
     "name": "#%%\n"
    }
   }
  },
  {
   "cell_type": "code",
   "execution_count": 83,
   "outputs": [
    {
     "data": {
      "text/plain": "Date      07 July 2022  08 July 2022  11 July 2022  12 July 2022  \\\nName                                                               \napple       146.350006    147.039993    144.869995    145.860001   \nfacebook    172.190002    170.880005    162.880005    163.270004   \n\nDate      13 July 2022  14 July 2022  15 July 2022  18 July 2022  \\\nName                                                               \napple       145.490005    148.470001    150.169998    147.070007   \nfacebook    163.490005    158.050003    164.699997    167.229996   \n\nDate      19 July 2022  20 July 2022  21 July 2022  22 July 2022  \\\nName                                                               \napple       151.000000    153.039993    155.350006    154.089996   \nfacebook    175.779999    183.089996    183.169998    169.270004   \n\nDate      25 July 2022  26 July 2022  27 July 2022  28 July 2022  \\\nName                                                               \napple       152.949997    151.600006    156.789993    157.350006   \nfacebook    166.649994    159.149994    169.580002    160.720001   \n\nDate      29 July 2022  01 August 2022  02 August 2022  03 August 2022  \nName                                                                    \napple       162.509995      161.509995      160.009995      166.130005  \nfacebook    159.100006      159.929993      160.190002      168.800003  ",
      "text/html": "<div>\n<style scoped>\n    .dataframe tbody tr th:only-of-type {\n        vertical-align: middle;\n    }\n\n    .dataframe tbody tr th {\n        vertical-align: top;\n    }\n\n    .dataframe thead th {\n        text-align: right;\n    }\n</style>\n<table border=\"1\" class=\"dataframe\">\n  <thead>\n    <tr style=\"text-align: right;\">\n      <th>Date</th>\n      <th>07 July 2022</th>\n      <th>08 July 2022</th>\n      <th>11 July 2022</th>\n      <th>12 July 2022</th>\n      <th>13 July 2022</th>\n      <th>14 July 2022</th>\n      <th>15 July 2022</th>\n      <th>18 July 2022</th>\n      <th>19 July 2022</th>\n      <th>20 July 2022</th>\n      <th>21 July 2022</th>\n      <th>22 July 2022</th>\n      <th>25 July 2022</th>\n      <th>26 July 2022</th>\n      <th>27 July 2022</th>\n      <th>28 July 2022</th>\n      <th>29 July 2022</th>\n      <th>01 August 2022</th>\n      <th>02 August 2022</th>\n      <th>03 August 2022</th>\n    </tr>\n    <tr>\n      <th>Name</th>\n      <th></th>\n      <th></th>\n      <th></th>\n      <th></th>\n      <th></th>\n      <th></th>\n      <th></th>\n      <th></th>\n      <th></th>\n      <th></th>\n      <th></th>\n      <th></th>\n      <th></th>\n      <th></th>\n      <th></th>\n      <th></th>\n      <th></th>\n      <th></th>\n      <th></th>\n      <th></th>\n    </tr>\n  </thead>\n  <tbody>\n    <tr>\n      <th>apple</th>\n      <td>146.350006</td>\n      <td>147.039993</td>\n      <td>144.869995</td>\n      <td>145.860001</td>\n      <td>145.490005</td>\n      <td>148.470001</td>\n      <td>150.169998</td>\n      <td>147.070007</td>\n      <td>151.000000</td>\n      <td>153.039993</td>\n      <td>155.350006</td>\n      <td>154.089996</td>\n      <td>152.949997</td>\n      <td>151.600006</td>\n      <td>156.789993</td>\n      <td>157.350006</td>\n      <td>162.509995</td>\n      <td>161.509995</td>\n      <td>160.009995</td>\n      <td>166.130005</td>\n    </tr>\n    <tr>\n      <th>facebook</th>\n      <td>172.190002</td>\n      <td>170.880005</td>\n      <td>162.880005</td>\n      <td>163.270004</td>\n      <td>163.490005</td>\n      <td>158.050003</td>\n      <td>164.699997</td>\n      <td>167.229996</td>\n      <td>175.779999</td>\n      <td>183.089996</td>\n      <td>183.169998</td>\n      <td>169.270004</td>\n      <td>166.649994</td>\n      <td>159.149994</td>\n      <td>169.580002</td>\n      <td>160.720001</td>\n      <td>159.100006</td>\n      <td>159.929993</td>\n      <td>160.190002</td>\n      <td>168.800003</td>\n    </tr>\n  </tbody>\n</table>\n</div>"
     },
     "execution_count": 83,
     "metadata": {},
     "output_type": "execute_result"
    }
   ],
   "source": [
    "data.sort_index()"
   ],
   "metadata": {
    "collapsed": false,
    "pycharm": {
     "name": "#%%\n"
    }
   }
  },
  {
   "cell_type": "code",
   "execution_count": 84,
   "outputs": [
    {
     "data": {
      "text/plain": "Name          Date       apple    facebook\n0     07 July 2022  146.350006  172.190002\n1     08 July 2022  147.039993  170.880005\n2     11 July 2022  144.869995  162.880005\n3     12 July 2022  145.860001  163.270004\n4     13 July 2022  145.490005  163.490005",
      "text/html": "<div>\n<style scoped>\n    .dataframe tbody tr th:only-of-type {\n        vertical-align: middle;\n    }\n\n    .dataframe tbody tr th {\n        vertical-align: top;\n    }\n\n    .dataframe thead th {\n        text-align: right;\n    }\n</style>\n<table border=\"1\" class=\"dataframe\">\n  <thead>\n    <tr style=\"text-align: right;\">\n      <th>Name</th>\n      <th>Date</th>\n      <th>apple</th>\n      <th>facebook</th>\n    </tr>\n  </thead>\n  <tbody>\n    <tr>\n      <th>0</th>\n      <td>07 July 2022</td>\n      <td>146.350006</td>\n      <td>172.190002</td>\n    </tr>\n    <tr>\n      <th>1</th>\n      <td>08 July 2022</td>\n      <td>147.039993</td>\n      <td>170.880005</td>\n    </tr>\n    <tr>\n      <th>2</th>\n      <td>11 July 2022</td>\n      <td>144.869995</td>\n      <td>162.880005</td>\n    </tr>\n    <tr>\n      <th>3</th>\n      <td>12 July 2022</td>\n      <td>145.860001</td>\n      <td>163.270004</td>\n    </tr>\n    <tr>\n      <th>4</th>\n      <td>13 July 2022</td>\n      <td>145.490005</td>\n      <td>163.490005</td>\n    </tr>\n  </tbody>\n</table>\n</div>"
     },
     "execution_count": 84,
     "metadata": {},
     "output_type": "execute_result"
    }
   ],
   "source": [
    "data = data.T.reset_index()\n",
    "data.head()"
   ],
   "metadata": {
    "collapsed": false,
    "pycharm": {
     "name": "#%%\n"
    }
   }
  },
  {
   "cell_type": "code",
   "execution_count": null,
   "outputs": [],
   "source": [],
   "metadata": {
    "collapsed": false,
    "pycharm": {
     "name": "#%%\n"
    }
   }
  }
 ],
 "metadata": {
  "kernelspec": {
   "display_name": "Python 3 (ipykernel)",
   "language": "python",
   "name": "python3"
  },
  "language_info": {
   "codemirror_mode": {
    "name": "ipython",
    "version": 3
   },
   "file_extension": ".py",
   "mimetype": "text/x-python",
   "name": "python",
   "nbconvert_exporter": "python",
   "pygments_lexer": "ipython3",
   "version": "3.10.4"
  }
 },
 "nbformat": 4,
 "nbformat_minor": 5
}